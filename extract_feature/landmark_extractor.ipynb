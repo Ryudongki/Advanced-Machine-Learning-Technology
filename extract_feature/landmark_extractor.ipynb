{
 "cells": [
  {
   "cell_type": "code",
   "execution_count": null,
   "metadata": {},
   "outputs": [],
   "source": [
    "from os import listdir\n",
    "from os.path import isfile, join\n",
    "mypath = 'celeba_crop/celeba_land'\n",
    "save_path = 'celeba_land/'\n",
    "filenames = [(f, join(mypath, f).replace('\\\\', '/')) for f in listdir(mypath) if isfile(join(mypath, f))]"
   ]
  },
  {
   "cell_type": "code",
   "execution_count": null,
   "metadata": {},
   "outputs": [],
   "source": [
    "import dlib\n",
    "from skimage import io\n",
    "\n",
    "predictor_model = \"shape_predictor_68_face_landmarks.dat\"\n",
    "face_detector = dlib.get_frontal_face_detector()\n",
    "face_pose_predictor = dlib.shape_predictor(predictor_model)"
   ]
  },
  {
   "cell_type": "code",
   "execution_count": null,
   "metadata": {
    "scrolled": true
   },
   "outputs": [],
   "source": [
    "from torch import FloatTensor\n",
    "import torchvision.utils as vutils\n",
    "landmarks = []\n",
    "\n",
    "for f, filename in filenames:\n",
    "    image = io.imread(filename)\n",
    "    detected_faces = face_detector(image, 1)\n",
    "    \n",
    "    if len(detected_faces) is not 1:\n",
    "        continue\n",
    "        \n",
    "    for i, face_rect in enumerate(detected_faces):\n",
    "        pose_landmarks = face_pose_predictor(image, face_rect)\n",
    "        \n",
    "        tensor = FloatTensor(224, 224).zero_()\n",
    "        for it in [pose_landmarks.part(part) for part in range(17, 68)]:\n",
    "            x, y = it.x, it.y\n",
    "            tensor[y][x] = 1\n",
    "            \n",
    "        vutils.save_image(tensor,\n",
    "            save_path + f,\n",
    "                normalize=False)\n"
   ]
  },
  {
   "cell_type": "code",
   "execution_count": null,
   "metadata": {},
   "outputs": [],
   "source": []
  }
 ],
 "metadata": {
  "kernelspec": {
   "display_name": "Python 3",
   "language": "python",
   "name": "python3"
  },
  "language_info": {
   "codemirror_mode": {
    "name": "ipython",
    "version": 3
   },
   "file_extension": ".py",
   "mimetype": "text/x-python",
   "name": "python",
   "nbconvert_exporter": "python",
   "pygments_lexer": "ipython3",
   "version": "3.6.4"
  }
 },
 "nbformat": 4,
 "nbformat_minor": 2
}
